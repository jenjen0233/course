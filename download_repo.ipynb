{
 "cells": [
  {
   "cell_type": "code",
   "execution_count": 1,
   "id": "d586e5d8-9851-488a-9c51-78e843fab36e",
   "metadata": {},
   "outputs": [],
   "source": [
    "import io\n",
    "import zipfile\n",
    "import requests\n",
    "import frontmatter"
   ]
  },
  {
   "cell_type": "code",
   "execution_count": 2,
   "id": "6914c77b-3033-47d7-a95f-0d1dbb28a746",
   "metadata": {},
   "outputs": [],
   "source": [
    "import io\n",
    "import zipfile\n",
    "from typing import List, Dict, Optional\n",
    "import requests\n",
    "import frontmatter\n",
    "\n",
    "\n",
    "class GitHubRepoError(Exception):\n",
    "    \"\"\"Custom exception for repository-related errors.\"\"\"\n",
    "    pass\n",
    "\n",
    "\n",
    "def read_repo_data(repo_owner, repo_name,branch = 'main',timeout = 30):\n",
    "    \"\"\"\n",
    "    Download and parse all markdown files from a GitHub repository.\n",
    "    \n",
    "    Args:\n",
    "        repo_owner: GitHub username or organization\n",
    "        repo_name: Repository name\n",
    "        branch: Branch name (default: 'main')\n",
    "        timeout: Request timeout in seconds (default: 30)\n",
    "    \n",
    "    Returns:\n",
    "        List of dictionaries containing file content and metadata\n",
    "        \n",
    "    Raises:\n",
    "        GitHubRepoError: If repository download fails\n",
    "        Timeout: to stop after the timeout and prevent the program from hanging forever if GitHub is slow/down.\n",
    "    \"\"\"\n",
    "    \n",
    "    # request to download content\n",
    "    prefix = 'https://codeload.github.com'\n",
    "    url = f'{prefix}/{repo_owner}/{repo_name}/zip/refs/heads/{branch}'\n",
    "    \n",
    "    try:\n",
    "        resp = requests.get(url, timeout=timeout)\n",
    "        resp.raise_for_status()\n",
    "    except requests.exceptions.Timeout:\n",
    "        raise GitHubRepoError(f\"Request timed out after {timeout} seconds\")\n",
    "    except requests.exceptions.RequestException as e:\n",
    "        raise GitHubRepoError(f\"Failed to download repository: {e}\")\n",
    "\n",
    "    # initialize the list of the downloaded content\n",
    "    repository_data = []\n",
    "    \n",
    "    try:\n",
    "        zf = zipfile.ZipFile(io.BytesIO(resp.content))\n",
    "        for file_info in zf.infolist():\n",
    "            filename = file_info.filename\n",
    "            filename_lower = filename.lower()\n",
    "\n",
    "            if not (filename_lower.endswith('.md') or filename_lower.endswith('.mdx')):\n",
    "                continue\n",
    "            try:\n",
    "                with zf.open(file_info) as f_in:\n",
    "                    content = f_in.read().decode('utf-8', errors='ignore')\n",
    "                    post = frontmatter.loads(content)\n",
    "                    data = post.to_dict()\n",
    "                    repository_data.append(data)\n",
    "            except Exception as e:\n",
    "                print(f\"Error processing {filename}: {e}\")\n",
    "                continue\n",
    "    \n",
    "    except zipfile.BadZipFile:\n",
    "        raise GitHubRepoError(\"Downloaded file is not a valid ZIP archive\")\n",
    "    \n",
    "    print(f\"\\nSuccessfully processed {len(repository_data)} markdown file(s)\")\n",
    "\n",
    "    zf.close()\n",
    "    return repository_data"
   ]
  },
  {
   "cell_type": "code",
   "execution_count": 3,
   "id": "6ef2dbda-b2fd-46a8-9178-7020822f0bb5",
   "metadata": {},
   "outputs": [
    {
     "name": "stdout",
     "output_type": "stream",
     "text": [
      "\n",
      "Successfully processed 1060 markdown file(s)\n"
     ]
    }
   ],
   "source": [
    "# download fastapi document files\n",
    "fastapi_docs = read_repo_data('fastapi', 'fastapi', branch='master')"
   ]
  },
  {
   "cell_type": "code",
   "execution_count": 4,
   "id": "7e7c3fd0-5f51-46b8-890b-bc53590ad8e5",
   "metadata": {},
   "outputs": [
    {
     "name": "stdout",
     "output_type": "stream",
     "text": [
      "{'content': '<p align=\"center\">\\n  <a href=\"https://fastapi.tiangolo.com\"><img src=\"https://fastapi.tiangolo.com/img/logo-margin/logo-teal.png\" alt=\"FastAPI\"></a>\\n</p>\\n<p align=\"center\">\\n    <em>FastAPI framework, high performance, easy to learn, fast to code, ready for production</em>\\n</p>\\n<p align=\"center\">\\n<a href=\"https://github.com/fastapi/fastapi/actions?query=workflow%3ATest+event%3Apush+branch%3Amaster\" target=\"_blank\">\\n    <img src=\"https://github.com/fastapi/fastapi/actions/workflows/test.yml/badge.svg?event=push&branch=master\" alt=\"Test\">\\n</a>\\n<a href=\"https://coverage-badge.samuelcolvin.workers.dev/redirect/fastapi/fastapi\" target=\"_blank\">\\n    <img src=\"https://coverage-badge.samuelcolvin.workers.dev/fastapi/fastapi.svg\" alt=\"Coverage\">\\n</a>\\n<a href=\"https://pypi.org/project/fastapi\" target=\"_blank\">\\n    <img src=\"https://img.shields.io/pypi/v/fastapi?color=%2334D058&label=pypi%20package\" alt=\"Package version\">\\n</a>\\n<a href=\"https://pypi.org/project/fastapi\" target=\"_blank\">\\n    <img src=\"https://img.shields.io/pypi/pyversions/fastapi.svg?color=%2334D058\" alt=\"Supported Python versions\">\\n</a>\\n</p>\\n\\n---\\n\\n**Documentation**: <a href=\"https://fastapi.tiangolo.com\" target=\"_blank\">https://fastapi.tiangolo.com</a>\\n\\n**Source Code**: <a href=\"https://github.com/fastapi/fastapi\" target=\"_blank\">https://github.com/fastapi/fastapi</a>\\n\\n---\\n\\nFastAPI is a modern, fast (high-performance), web framework for building APIs with Python based on standard Python type hints.\\n\\nThe key features are:\\n\\n* **Fast**: Very high performance, on par with **NodeJS** and **Go** (thanks to Starlette and Pydantic). [One of the fastest Python frameworks available](#performance).\\n* **Fast to code**: Increase the speed to develop features by about 200% to 300%. *\\n* **Fewer bugs**: Reduce about 40% of human (developer) induced errors. *\\n* **Intuitive**: Great editor support. <abbr title=\"also known as auto-complete, autocompletion, IntelliSense\">Completion</abbr> everywhere. Less time debugging.\\n* **Easy**: Designed to be easy to use and learn. Less time reading docs.\\n* **Short**: Minimize code duplication. Multiple features from each parameter declaration. Fewer bugs.\\n* **Robust**: Get production-ready code. With automatic interactive documentation.\\n* **Standards-based**: Based on (and fully compatible with) the open standards for APIs: <a href=\"https://github.com/OAI/OpenAPI-Specification\" class=\"external-link\" target=\"_blank\">OpenAPI</a> (previously known as Swagger) and <a href=\"https://json-schema.org/\" class=\"external-link\" target=\"_blank\">JSON Schema</a>.\\n\\n<small>* estimation based on tests on an internal development team, building production applications.</small>\\n\\n## Sponsors\\n\\n<!-- sponsors -->\\n\\n<a href=\"https://blockbee.io?ref=fastapi\" target=\"_blank\" title=\"BlockBee Cryptocurrency Payment Gateway\"><img src=\"https://fastapi.tiangolo.com/img/sponsors/blockbee.png\"></a>\\n<a href=\"https://github.com/scalar/scalar/?utm_source=fastapi&utm_medium=website&utm_campaign=main-badge\" target=\"_blank\" title=\"Scalar: Beautiful Open-Source API References from Swagger/OpenAPI files\"><img src=\"https://fastapi.tiangolo.com/img/sponsors/scalar.svg\"></a>\\n<a href=\"https://www.propelauth.com/?utm_source=fastapi&utm_campaign=1223&utm_medium=mainbadge\" target=\"_blank\" title=\"Auth, user management and more for your B2B product\"><img src=\"https://fastapi.tiangolo.com/img/sponsors/propelauth.png\"></a>\\n<a href=\"https://zuplo.link/fastapi-gh\" target=\"_blank\" title=\"Zuplo: Deploy, Secure, Document, and Monetize your FastAPI\"><img src=\"https://fastapi.tiangolo.com/img/sponsors/zuplo.png\"></a>\\n<a href=\"https://liblab.com?utm_source=fastapi\" target=\"_blank\" title=\"liblab - Generate SDKs from FastAPI\"><img src=\"https://fastapi.tiangolo.com/img/sponsors/liblab.png\"></a>\\n<a href=\"https://docs.render.com/deploy-fastapi?utm_source=deploydoc&utm_medium=referral&utm_campaign=fastapi\" target=\"_blank\" title=\"Deploy & scale any full-stack web app on Render. Focus on building apps, not infra.\"><img src=\"https://fastapi.tiangolo.com/img/sponsors/render.svg\"></a>\\n<a href=\"https://www.coderabbit.ai/?utm_source=fastapi&utm_medium=badge&utm_campaign=fastapi\" target=\"_blank\" title=\"Cut Code Review Time & Bugs in Half with CodeRabbit\"><img src=\"https://fastapi.tiangolo.com/img/sponsors/coderabbit.png\"></a>\\n<a href=\"https://subtotal.com/?utm_source=fastapi&utm_medium=sponsorship&utm_campaign=open-source\" target=\"_blank\" title=\"The Gold Standard in Retail Account Linking\"><img src=\"https://fastapi.tiangolo.com/img/sponsors/subtotal.svg\"></a>\\n<a href=\"https://docs.railway.com/guides/fastapi?utm_medium=integration&utm_source=docs&utm_campaign=fastapi\" target=\"_blank\" title=\"Deploy enterprise applications at startup speed\"><img src=\"https://fastapi.tiangolo.com/img/sponsors/railway.png\"></a>\\n<a href=\"https://databento.com/?utm_source=fastapi&utm_medium=sponsor&utm_content=display\" target=\"_blank\" title=\"Pay as you go for market data\"><img src=\"https://fastapi.tiangolo.com/img/sponsors/databento.svg\"></a>\\n<a href=\"https://speakeasy.com/editor?utm_source=fastapi+repo&utm_medium=github+sponsorship\" target=\"_blank\" title=\"SDKs for your API | Speakeasy\"><img src=\"https://fastapi.tiangolo.com/img/sponsors/speakeasy.png\"></a>\\n<a href=\"https://www.svix.com/\" target=\"_blank\" title=\"Svix - Webhooks as a service\"><img src=\"https://fastapi.tiangolo.com/img/sponsors/svix.svg\"></a>\\n<a href=\"https://www.stainlessapi.com/?utm_source=fastapi&utm_medium=referral\" target=\"_blank\" title=\"Stainless | Generate best-in-class SDKs\"><img src=\"https://fastapi.tiangolo.com/img/sponsors/stainless.png\"></a>\\n<a href=\"https://www.permit.io/blog/implement-authorization-in-fastapi?utm_source=github&utm_medium=referral&utm_campaign=fastapi\" target=\"_blank\" title=\"Fine-Grained Authorization for FastAPI\"><img src=\"https://fastapi.tiangolo.com/img/sponsors/permit.png\"></a>\\n<a href=\"https://www.interviewpal.com/?utm_source=fastapi&utm_medium=open-source&utm_campaign=dev-hiring\" target=\"_blank\" title=\"InterviewPal - AI Interview Coach for Engineers and Devs\"><img src=\"https://fastapi.tiangolo.com/img/sponsors/interviewpal.png\"></a>\\n<a href=\"https://dribia.com/en/\" target=\"_blank\" title=\"Dribia - Data Science within your reach\"><img src=\"https://fastapi.tiangolo.com/img/sponsors/dribia.png\"></a>\\n\\n<!-- /sponsors -->\\n\\n<a href=\"https://fastapi.tiangolo.com/fastapi-people/#sponsors\" class=\"external-link\" target=\"_blank\">Other sponsors</a>\\n\\n## Opinions\\n\\n\"_[...] I\\'m using **FastAPI** a ton these days. [...] I\\'m actually planning to use it for all of my team\\'s **ML services at Microsoft**. Some of them are getting integrated into the core **Windows** product and some **Office** products._\"\\n\\n<div style=\"text-align: right; margin-right: 10%;\">Kabir Khan - <strong>Microsoft</strong> <a href=\"https://github.com/fastapi/fastapi/pull/26\" target=\"_blank\"><small>(ref)</small></a></div>\\n\\n---\\n\\n\"_We adopted the **FastAPI** library to spawn a **REST** server that can be queried to obtain **predictions**. [for Ludwig]_\"\\n\\n<div style=\"text-align: right; margin-right: 10%;\">Piero Molino, Yaroslav Dudin, and Sai Sumanth Miryala - <strong>Uber</strong> <a href=\"https://eng.uber.com/ludwig-v0-2/\" target=\"_blank\"><small>(ref)</small></a></div>\\n\\n---\\n\\n\"_**Netflix** is pleased to announce the open-source release of our **crisis management** orchestration framework: **Dispatch**! [built with **FastAPI**]_\"\\n\\n<div style=\"text-align: right; margin-right: 10%;\">Kevin Glisson, Marc Vilanova, Forest Monsen - <strong>Netflix</strong> <a href=\"https://netflixtechblog.com/introducing-dispatch-da4b8a2a8072\" target=\"_blank\"><small>(ref)</small></a></div>\\n\\n---\\n\\n\"_I’m over the moon excited about **FastAPI**. It’s so fun!_\"\\n\\n<div style=\"text-align: right; margin-right: 10%;\">Brian Okken - <strong><a href=\"https://pythonbytes.fm/episodes/show/123/time-to-right-the-py-wrongs?time_in_sec=855\" target=\"_blank\">Python Bytes</a> podcast host</strong> <a href=\"https://x.com/brianokken/status/1112220079972728832\" target=\"_blank\"><small>(ref)</small></a></div>\\n\\n---\\n\\n\"_Honestly, what you\\'ve built looks super solid and polished. In many ways, it\\'s what I wanted **Hug** to be - it\\'s really inspiring to see someone build that._\"\\n\\n<div style=\"text-align: right; margin-right: 10%;\">Timothy Crosley - <strong><a href=\"https://github.com/hugapi/hug\" target=\"_blank\">Hug</a> creator</strong> <a href=\"https://news.ycombinator.com/item?id=19455465\" target=\"_blank\"><small>(ref)</small></a></div>\\n\\n---\\n\\n\"_If you\\'re looking to learn one **modern framework** for building REST APIs, check out **FastAPI** [...] It\\'s fast, easy to use and easy to learn [...]_\"\\n\\n\"_We\\'ve switched over to **FastAPI** for our **APIs** [...] I think you\\'ll like it [...]_\"\\n\\n<div style=\"text-align: right; margin-right: 10%;\">Ines Montani - Matthew Honnibal - <strong><a href=\"https://explosion.ai\" target=\"_blank\">Explosion AI</a> founders - <a href=\"https://spacy.io\" target=\"_blank\">spaCy</a> creators</strong> <a href=\"https://x.com/_inesmontani/status/1144173225322143744\" target=\"_blank\"><small>(ref)</small></a> - <a href=\"https://x.com/honnibal/status/1144031421859655680\" target=\"_blank\"><small>(ref)</small></a></div>\\n\\n---\\n\\n\"_If anyone is looking to build a production Python API, I would highly recommend **FastAPI**. It is **beautifully designed**, **simple to use** and **highly scalable**, it has become a **key component** in our API first development strategy and is driving many automations and services such as our Virtual TAC Engineer._\"\\n\\n<div style=\"text-align: right; margin-right: 10%;\">Deon Pillsbury - <strong>Cisco</strong> <a href=\"https://www.linkedin.com/posts/deonpillsbury_cisco-cx-python-activity-6963242628536487936-trAp/\" target=\"_blank\"><small>(ref)</small></a></div>\\n\\n---\\n\\n## **Typer**, the FastAPI of CLIs\\n\\n<a href=\"https://typer.tiangolo.com\" target=\"_blank\"><img src=\"https://typer.tiangolo.com/img/logo-margin/logo-margin-vector.svg\" style=\"width: 20%;\"></a>\\n\\nIf you are building a <abbr title=\"Command Line Interface\">CLI</abbr> app to be used in the terminal instead of a web API, check out <a href=\"https://typer.tiangolo.com/\" class=\"external-link\" target=\"_blank\">**Typer**</a>.\\n\\n**Typer** is FastAPI\\'s little sibling. And it\\'s intended to be the **FastAPI of CLIs**. ⌨️ 🚀\\n\\n## Requirements\\n\\nFastAPI stands on the shoulders of giants:\\n\\n* <a href=\"https://www.starlette.io/\" class=\"external-link\" target=\"_blank\">Starlette</a> for the web parts.\\n* <a href=\"https://docs.pydantic.dev/\" class=\"external-link\" target=\"_blank\">Pydantic</a> for the data parts.\\n\\n## Installation\\n\\nCreate and activate a <a href=\"https://fastapi.tiangolo.com/virtual-environments/\" class=\"external-link\" target=\"_blank\">virtual environment</a> and then install FastAPI:\\n\\n<div class=\"termy\">\\n\\n```console\\n$ pip install \"fastapi[standard]\"\\n\\n---> 100%\\n```\\n\\n</div>\\n\\n**Note**: Make sure you put `\"fastapi[standard]\"` in quotes to ensure it works in all terminals.\\n\\n## Example\\n\\n### Create it\\n\\nCreate a file `main.py` with:\\n\\n```Python\\nfrom typing import Union\\n\\nfrom fastapi import FastAPI\\n\\napp = FastAPI()\\n\\n\\n@app.get(\"/\")\\ndef read_root():\\n    return {\"Hello\": \"World\"}\\n\\n\\n@app.get(\"/items/{item_id}\")\\ndef read_item(item_id: int, q: Union[str, None] = None):\\n    return {\"item_id\": item_id, \"q\": q}\\n```\\n\\n<details markdown=\"1\">\\n<summary>Or use <code>async def</code>...</summary>\\n\\nIf your code uses `async` / `await`, use `async def`:\\n\\n```Python hl_lines=\"9  14\"\\nfrom typing import Union\\n\\nfrom fastapi import FastAPI\\n\\napp = FastAPI()\\n\\n\\n@app.get(\"/\")\\nasync def read_root():\\n    return {\"Hello\": \"World\"}\\n\\n\\n@app.get(\"/items/{item_id}\")\\nasync def read_item(item_id: int, q: Union[str, None] = None):\\n    return {\"item_id\": item_id, \"q\": q}\\n```\\n\\n**Note**:\\n\\nIf you don\\'t know, check the _\"In a hurry?\"_ section about <a href=\"https://fastapi.tiangolo.com/async/#in-a-hurry\" target=\"_blank\">`async` and `await` in the docs</a>.\\n\\n</details>\\n\\n### Run it\\n\\nRun the server with:\\n\\n<div class=\"termy\">\\n\\n```console\\n$ fastapi dev main.py\\n\\n ╭────────── FastAPI CLI - Development mode ───────────╮\\n │                                                     │\\n │  Serving at: http://127.0.0.1:8000                  │\\n │                                                     │\\n │  API docs: http://127.0.0.1:8000/docs               │\\n │                                                     │\\n │  Running in development mode, for production use:   │\\n │                                                     │\\n │  fastapi run                                        │\\n │                                                     │\\n ╰─────────────────────────────────────────────────────╯\\n\\nINFO:     Will watch for changes in these directories: [\\'/home/user/code/awesomeapp\\']\\nINFO:     Uvicorn running on http://127.0.0.1:8000 (Press CTRL+C to quit)\\nINFO:     Started reloader process [2248755] using WatchFiles\\nINFO:     Started server process [2248757]\\nINFO:     Waiting for application startup.\\nINFO:     Application startup complete.\\n```\\n\\n</div>\\n\\n<details markdown=\"1\">\\n<summary>About the command <code>fastapi dev main.py</code>...</summary>\\n\\nThe command `fastapi dev` reads your `main.py` file, detects the **FastAPI** app in it, and starts a server using <a href=\"https://www.uvicorn.org\" class=\"external-link\" target=\"_blank\">Uvicorn</a>.\\n\\nBy default, `fastapi dev` will start with auto-reload enabled for local development.\\n\\nYou can read more about it in the <a href=\"https://fastapi.tiangolo.com/fastapi-cli/\" target=\"_blank\">FastAPI CLI docs</a>.\\n\\n</details>\\n\\n### Check it\\n\\nOpen your browser at <a href=\"http://127.0.0.1:8000/items/5?q=somequery\" class=\"external-link\" target=\"_blank\">http://127.0.0.1:8000/items/5?q=somequery</a>.\\n\\nYou will see the JSON response as:\\n\\n```JSON\\n{\"item_id\": 5, \"q\": \"somequery\"}\\n```\\n\\nYou already created an API that:\\n\\n* Receives HTTP requests in the _paths_ `/` and `/items/{item_id}`.\\n* Both _paths_ take `GET` <em>operations</em> (also known as HTTP _methods_).\\n* The _path_ `/items/{item_id}` has a _path parameter_ `item_id` that should be an `int`.\\n* The _path_ `/items/{item_id}` has an optional `str` _query parameter_ `q`.\\n\\n### Interactive API docs\\n\\nNow go to <a href=\"http://127.0.0.1:8000/docs\" class=\"external-link\" target=\"_blank\">http://127.0.0.1:8000/docs</a>.\\n\\nYou will see the automatic interactive API documentation (provided by <a href=\"https://github.com/swagger-api/swagger-ui\" class=\"external-link\" target=\"_blank\">Swagger UI</a>):\\n\\n![Swagger UI](https://fastapi.tiangolo.com/img/index/index-01-swagger-ui-simple.png)\\n\\n### Alternative API docs\\n\\nAnd now, go to <a href=\"http://127.0.0.1:8000/redoc\" class=\"external-link\" target=\"_blank\">http://127.0.0.1:8000/redoc</a>.\\n\\nYou will see the alternative automatic documentation (provided by <a href=\"https://github.com/Rebilly/ReDoc\" class=\"external-link\" target=\"_blank\">ReDoc</a>):\\n\\n![ReDoc](https://fastapi.tiangolo.com/img/index/index-02-redoc-simple.png)\\n\\n## Example upgrade\\n\\nNow modify the file `main.py` to receive a body from a `PUT` request.\\n\\nDeclare the body using standard Python types, thanks to Pydantic.\\n\\n```Python hl_lines=\"4  9-12  25-27\"\\nfrom typing import Union\\n\\nfrom fastapi import FastAPI\\nfrom pydantic import BaseModel\\n\\napp = FastAPI()\\n\\n\\nclass Item(BaseModel):\\n    name: str\\n    price: float\\n    is_offer: Union[bool, None] = None\\n\\n\\n@app.get(\"/\")\\ndef read_root():\\n    return {\"Hello\": \"World\"}\\n\\n\\n@app.get(\"/items/{item_id}\")\\ndef read_item(item_id: int, q: Union[str, None] = None):\\n    return {\"item_id\": item_id, \"q\": q}\\n\\n\\n@app.put(\"/items/{item_id}\")\\ndef update_item(item_id: int, item: Item):\\n    return {\"item_name\": item.name, \"item_id\": item_id}\\n```\\n\\nThe `fastapi dev` server should reload automatically.\\n\\n### Interactive API docs upgrade\\n\\nNow go to <a href=\"http://127.0.0.1:8000/docs\" class=\"external-link\" target=\"_blank\">http://127.0.0.1:8000/docs</a>.\\n\\n* The interactive API documentation will be automatically updated, including the new body:\\n\\n![Swagger UI](https://fastapi.tiangolo.com/img/index/index-03-swagger-02.png)\\n\\n* Click on the button \"Try it out\", it allows you to fill the parameters and directly interact with the API:\\n\\n![Swagger UI interaction](https://fastapi.tiangolo.com/img/index/index-04-swagger-03.png)\\n\\n* Then click on the \"Execute\" button, the user interface will communicate with your API, send the parameters, get the results and show them on the screen:\\n\\n![Swagger UI interaction](https://fastapi.tiangolo.com/img/index/index-05-swagger-04.png)\\n\\n### Alternative API docs upgrade\\n\\nAnd now, go to <a href=\"http://127.0.0.1:8000/redoc\" class=\"external-link\" target=\"_blank\">http://127.0.0.1:8000/redoc</a>.\\n\\n* The alternative documentation will also reflect the new query parameter and body:\\n\\n![ReDoc](https://fastapi.tiangolo.com/img/index/index-06-redoc-02.png)\\n\\n### Recap\\n\\nIn summary, you declare **once** the types of parameters, body, etc. as function parameters.\\n\\nYou do that with standard modern Python types.\\n\\nYou don\\'t have to learn a new syntax, the methods or classes of a specific library, etc.\\n\\nJust standard **Python**.\\n\\nFor example, for an `int`:\\n\\n```Python\\nitem_id: int\\n```\\n\\nor for a more complex `Item` model:\\n\\n```Python\\nitem: Item\\n```\\n\\n...and with that single declaration you get:\\n\\n* Editor support, including:\\n    * Completion.\\n    * Type checks.\\n* Validation of data:\\n    * Automatic and clear errors when the data is invalid.\\n    * Validation even for deeply nested JSON objects.\\n* <abbr title=\"also known as: serialization, parsing, marshalling\">Conversion</abbr> of input data: coming from the network to Python data and types. Reading from:\\n    * JSON.\\n    * Path parameters.\\n    * Query parameters.\\n    * Cookies.\\n    * Headers.\\n    * Forms.\\n    * Files.\\n* <abbr title=\"also known as: serialization, parsing, marshalling\">Conversion</abbr> of output data: converting from Python data and types to network data (as JSON):\\n    * Convert Python types (`str`, `int`, `float`, `bool`, `list`, etc).\\n    * `datetime` objects.\\n    * `UUID` objects.\\n    * Database models.\\n    * ...and many more.\\n* Automatic interactive API documentation, including 2 alternative user interfaces:\\n    * Swagger UI.\\n    * ReDoc.\\n\\n---\\n\\nComing back to the previous code example, **FastAPI** will:\\n\\n* Validate that there is an `item_id` in the path for `GET` and `PUT` requests.\\n* Validate that the `item_id` is of type `int` for `GET` and `PUT` requests.\\n    * If it is not, the client will see a useful, clear error.\\n* Check if there is an optional query parameter named `q` (as in `http://127.0.0.1:8000/items/foo?q=somequery`) for `GET` requests.\\n    * As the `q` parameter is declared with `= None`, it is optional.\\n    * Without the `None` it would be required (as is the body in the case with `PUT`).\\n* For `PUT` requests to `/items/{item_id}`, read the body as JSON:\\n    * Check that it has a required attribute `name` that should be a `str`.\\n    * Check that it has a required attribute `price` that has to be a `float`.\\n    * Check that it has an optional attribute `is_offer`, that should be a `bool`, if present.\\n    * All this would also work for deeply nested JSON objects.\\n* Convert from and to JSON automatically.\\n* Document everything with OpenAPI, that can be used by:\\n    * Interactive documentation systems.\\n    * Automatic client code generation systems, for many languages.\\n* Provide 2 interactive documentation web interfaces directly.\\n\\n---\\n\\nWe just scratched the surface, but you already get the idea of how it all works.\\n\\nTry changing the line with:\\n\\n```Python\\n    return {\"item_name\": item.name, \"item_id\": item_id}\\n```\\n\\n...from:\\n\\n```Python\\n        ... \"item_name\": item.name ...\\n```\\n\\n...to:\\n\\n```Python\\n        ... \"item_price\": item.price ...\\n```\\n\\n...and see how your editor will auto-complete the attributes and know their types:\\n\\n![editor support](https://fastapi.tiangolo.com/img/vscode-completion.png)\\n\\nFor a more complete example including more features, see the <a href=\"https://fastapi.tiangolo.com/tutorial/\">Tutorial - User Guide</a>.\\n\\n**Spoiler alert**: the tutorial - user guide includes:\\n\\n* Declaration of **parameters** from other different places as: **headers**, **cookies**, **form fields** and **files**.\\n* How to set **validation constraints** as `maximum_length` or `regex`.\\n* A very powerful and easy to use **<abbr title=\"also known as components, resources, providers, services, injectables\">Dependency Injection</abbr>** system.\\n* Security and authentication, including support for **OAuth2** with **JWT tokens** and **HTTP Basic** auth.\\n* More advanced (but equally easy) techniques for declaring **deeply nested JSON models** (thanks to Pydantic).\\n* **GraphQL** integration with <a href=\"https://strawberry.rocks\" class=\"external-link\" target=\"_blank\">Strawberry</a> and other libraries.\\n* Many extra features (thanks to Starlette) as:\\n    * **WebSockets**\\n    * extremely easy tests based on HTTPX and `pytest`\\n    * **CORS**\\n    * **Cookie Sessions**\\n    * ...and more.\\n\\n## Performance\\n\\nIndependent TechEmpower benchmarks show **FastAPI** applications running under Uvicorn as <a href=\"https://www.techempower.com/benchmarks/#section=test&runid=7464e520-0dc2-473d-bd34-dbdfd7e85911&hw=ph&test=query&l=zijzen-7\" class=\"external-link\" target=\"_blank\">one of the fastest Python frameworks available</a>, only below Starlette and Uvicorn themselves (used internally by FastAPI). (*)\\n\\nTo understand more about it, see the section <a href=\"https://fastapi.tiangolo.com/benchmarks/\" class=\"internal-link\" target=\"_blank\">Benchmarks</a>.\\n\\n## Dependencies\\n\\nFastAPI depends on Pydantic and Starlette.\\n\\n### `standard` Dependencies\\n\\nWhen you install FastAPI with `pip install \"fastapi[standard]\"` it comes with the `standard` group of optional dependencies:\\n\\nUsed by Pydantic:\\n\\n* <a href=\"https://github.com/JoshData/python-email-validator\" target=\"_blank\"><code>email-validator</code></a> - for email validation.\\n\\nUsed by Starlette:\\n\\n* <a href=\"https://www.python-httpx.org\" target=\"_blank\"><code>httpx</code></a> - Required if you want to use the `TestClient`.\\n* <a href=\"https://jinja.palletsprojects.com\" target=\"_blank\"><code>jinja2</code></a> - Required if you want to use the default template configuration.\\n* <a href=\"https://github.com/Kludex/python-multipart\" target=\"_blank\"><code>python-multipart</code></a> - Required if you want to support form <abbr title=\"converting the string that comes from an HTTP request into Python data\">\"parsing\"</abbr>, with `request.form()`.\\n\\nUsed by FastAPI:\\n\\n* <a href=\"https://www.uvicorn.org\" target=\"_blank\"><code>uvicorn</code></a> - for the server that loads and serves your application. This includes `uvicorn[standard]`, which includes some dependencies (e.g. `uvloop`) needed for high performance serving.\\n* `fastapi-cli[standard]` - to provide the `fastapi` command.\\n    * This includes `fastapi-cloud-cli`, which allows you to deploy your FastAPI application to <a href=\"https://fastapicloud.com\" class=\"external-link\" target=\"_blank\">FastAPI Cloud</a>.\\n\\n### Without `standard` Dependencies\\n\\nIf you don\\'t want to include the `standard` optional dependencies, you can install with `pip install fastapi` instead of `pip install \"fastapi[standard]\"`.\\n\\n### Without `fastapi-cloud-cli`\\n\\nIf you want to install FastAPI with the standard dependencies but without the `fastapi-cloud-cli`, you can install with `pip install \"fastapi[standard-no-fastapi-cloud-cli]\"`.\\n\\n### Additional Optional Dependencies\\n\\nThere are some additional dependencies you might want to install.\\n\\nAdditional optional Pydantic dependencies:\\n\\n* <a href=\"https://docs.pydantic.dev/latest/usage/pydantic_settings/\" target=\"_blank\"><code>pydantic-settings</code></a> - for settings management.\\n* <a href=\"https://docs.pydantic.dev/latest/usage/types/extra_types/extra_types/\" target=\"_blank\"><code>pydantic-extra-types</code></a> - for extra types to be used with Pydantic.\\n\\nAdditional optional FastAPI dependencies:\\n\\n* <a href=\"https://github.com/ijl/orjson\" target=\"_blank\"><code>orjson</code></a> - Required if you want to use `ORJSONResponse`.\\n* <a href=\"https://github.com/esnme/ultrajson\" target=\"_blank\"><code>ujson</code></a> - Required if you want to use `UJSONResponse`.\\n\\n## License\\n\\nThis project is licensed under the terms of the MIT license.'}\n"
     ]
    }
   ],
   "source": [
    "# print the 1st doc\n",
    "print(fastapi_docs[1])"
   ]
  },
  {
   "cell_type": "code",
   "execution_count": 5,
   "id": "51f606d7-7443-4a17-b2b2-b60e82fa8392",
   "metadata": {},
   "outputs": [
    {
     "name": "stdout",
     "output_type": "stream",
     "text": [
      "\n",
      "Successfully processed 95 markdown file(s)\n"
     ]
    }
   ],
   "source": [
    "# download evidently docs as zip files\n",
    "evidently_docs = read_repo_data('evidentlyai', 'docs')"
   ]
  },
  {
   "cell_type": "code",
   "execution_count": 6,
   "id": "54b82ced-cba8-455e-9064-2e518957b593",
   "metadata": {},
   "outputs": [
    {
     "name": "stdout",
     "output_type": "stream",
     "text": [
      "{'title': 'Create Plant', 'openapi': 'POST /plants', 'content': ''}\n"
     ]
    }
   ],
   "source": [
    "# print first file of evidently_docs\n",
    "print(evidently_docs[0])"
   ]
  },
  {
   "cell_type": "code",
   "execution_count": null,
   "id": "5bac00a1-e020-4b4a-9a88-e24ebcbf0506",
   "metadata": {},
   "outputs": [],
   "source": []
  }
 ],
 "metadata": {
  "kernelspec": {
   "display_name": "Python 3 (ipykernel)",
   "language": "python",
   "name": "python3"
  },
  "language_info": {
   "codemirror_mode": {
    "name": "ipython",
    "version": 3
   },
   "file_extension": ".py",
   "mimetype": "text/x-python",
   "name": "python",
   "nbconvert_exporter": "python",
   "pygments_lexer": "ipython3",
   "version": "3.13.7"
  }
 },
 "nbformat": 4,
 "nbformat_minor": 5
}
